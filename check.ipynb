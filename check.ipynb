{
 "cells": [
  {
   "cell_type": "code",
   "execution_count": 2,
   "metadata": {},
   "outputs": [],
   "source": [
    "import pandas as pd"
   ]
  },
  {
   "cell_type": "code",
   "execution_count": 137,
   "metadata": {},
   "outputs": [
    {
     "data": {
      "text/html": [
       "<div>\n",
       "<style scoped>\n",
       "    .dataframe tbody tr th:only-of-type {\n",
       "        vertical-align: middle;\n",
       "    }\n",
       "\n",
       "    .dataframe tbody tr th {\n",
       "        vertical-align: top;\n",
       "    }\n",
       "\n",
       "    .dataframe thead th {\n",
       "        text-align: right;\n",
       "    }\n",
       "</style>\n",
       "<table border=\"1\" class=\"dataframe\">\n",
       "  <thead>\n",
       "    <tr style=\"text-align: right;\">\n",
       "      <th></th>\n",
       "      <th>SatelliteID</th>\n",
       "      <th>Summarization</th>\n",
       "      <th>Captions</th>\n",
       "      <th>GroundImageIDs</th>\n",
       "    </tr>\n",
       "  </thead>\n",
       "  <tbody>\n",
       "    <tr>\n",
       "      <th>0</th>\n",
       "      <td>1541</td>\n",
       "      <td>The image features a small statue or sculpture...</td>\n",
       "      <td>1. The image features a small statue or sculpt...</td>\n",
       "      <td>13946670082</td>\n",
       "    </tr>\n",
       "    <tr>\n",
       "      <th>1</th>\n",
       "      <td>1665</td>\n",
       "      <td>This image depicts an empty street on a rainy ...</td>\n",
       "      <td>1. The image depicts an empty street on a rain...</td>\n",
       "      <td>15483670089</td>\n",
       "    </tr>\n",
       "    <tr>\n",
       "      <th>2</th>\n",
       "      <td>2406</td>\n",
       "      <td>This image depicts a cave with a small stream ...</td>\n",
       "      <td>1. The image depicts a cave with a small strea...</td>\n",
       "      <td>8604640080</td>\n",
       "    </tr>\n",
       "    <tr>\n",
       "      <th>3</th>\n",
       "      <td>2407</td>\n",
       "      <td>This image depicts a cave with a small stream ...</td>\n",
       "      <td>1. The image depicts a cave with a small strea...</td>\n",
       "      <td>8604640080</td>\n",
       "    </tr>\n",
       "    <tr>\n",
       "      <th>4</th>\n",
       "      <td>3597</td>\n",
       "      <td>A woman is standing in a bouncy house filled w...</td>\n",
       "      <td>1. The image depicts a woman standing in a bou...</td>\n",
       "      <td>37274280082</td>\n",
       "    </tr>\n",
       "    <tr>\n",
       "      <th>...</th>\n",
       "      <td>...</td>\n",
       "      <td>...</td>\n",
       "      <td>...</td>\n",
       "      <td>...</td>\n",
       "    </tr>\n",
       "    <tr>\n",
       "      <th>178</th>\n",
       "      <td>287515</td>\n",
       "      <td>The satellite image features a large metal obj...</td>\n",
       "      <td>1. The image features a large metal object, po...</td>\n",
       "      <td>48091350082</td>\n",
       "    </tr>\n",
       "    <tr>\n",
       "      <th>179</th>\n",
       "      <td>287517</td>\n",
       "      <td>The image features a large metal object, possi...</td>\n",
       "      <td>1. The image features a large metal object, po...</td>\n",
       "      <td>48091350082</td>\n",
       "    </tr>\n",
       "    <tr>\n",
       "      <th>180</th>\n",
       "      <td>287707</td>\n",
       "      <td>The image features a snow-covered roof with a ...</td>\n",
       "      <td>1. The image features a snow-covered roof with...</td>\n",
       "      <td>52647390089</td>\n",
       "    </tr>\n",
       "    <tr>\n",
       "      <th>181</th>\n",
       "      <td>287708</td>\n",
       "      <td>The image features a snow-covered roof with a ...</td>\n",
       "      <td>1. The image features a snow-covered roof with...</td>\n",
       "      <td>52647390089</td>\n",
       "    </tr>\n",
       "    <tr>\n",
       "      <th>182</th>\n",
       "      <td>289329</td>\n",
       "      <td>The image depicts a lively restaurant scene wi...</td>\n",
       "      <td>1. The image depicts a lively restaurant scene...</td>\n",
       "      <td>53006770089</td>\n",
       "    </tr>\n",
       "  </tbody>\n",
       "</table>\n",
       "<p>183 rows × 4 columns</p>\n",
       "</div>"
      ],
      "text/plain": [
       "     SatelliteID                                      Summarization  \\\n",
       "0           1541  The image features a small statue or sculpture...   \n",
       "1           1665  This image depicts an empty street on a rainy ...   \n",
       "2           2406  This image depicts a cave with a small stream ...   \n",
       "3           2407  This image depicts a cave with a small stream ...   \n",
       "4           3597  A woman is standing in a bouncy house filled w...   \n",
       "..           ...                                                ...   \n",
       "178       287515  The satellite image features a large metal obj...   \n",
       "179       287517  The image features a large metal object, possi...   \n",
       "180       287707  The image features a snow-covered roof with a ...   \n",
       "181       287708  The image features a snow-covered roof with a ...   \n",
       "182       289329  The image depicts a lively restaurant scene wi...   \n",
       "\n",
       "                                              Captions  GroundImageIDs  \n",
       "0    1. The image features a small statue or sculpt...     13946670082  \n",
       "1    1. The image depicts an empty street on a rain...     15483670089  \n",
       "2    1. The image depicts a cave with a small strea...      8604640080  \n",
       "3    1. The image depicts a cave with a small strea...      8604640080  \n",
       "4    1. The image depicts a woman standing in a bou...     37274280082  \n",
       "..                                                 ...             ...  \n",
       "178  1. The image features a large metal object, po...     48091350082  \n",
       "179  1. The image features a large metal object, po...     48091350082  \n",
       "180  1. The image features a snow-covered roof with...     52647390089  \n",
       "181  1. The image features a snow-covered roof with...     52647390089  \n",
       "182  1. The image depicts a lively restaurant scene...     53006770089  \n",
       "\n",
       "[183 rows x 4 columns]"
      ]
     },
     "execution_count": 137,
     "metadata": {},
     "output_type": "execute_result"
    }
   ],
   "source": [
    "df = pd.read_csv('summarizations.csv')\n",
    "df"
   ]
  },
  {
   "cell_type": "code",
   "execution_count": 138,
   "metadata": {},
   "outputs": [
    {
     "name": "stdout",
     "output_type": "stream",
     "text": [
      "The image features a small statue or sculpture of a person's head, possibly a witch or a demon, sitting on top of a table. The statue appears\n"
     ]
    }
   ],
   "source": [
    "print(df['Summarization'][0])"
   ]
  },
  {
   "cell_type": "code",
   "execution_count": 139,
   "metadata": {},
   "outputs": [
    {
     "name": "stdout",
     "output_type": "stream",
     "text": [
      "1. The image features a small statue or sculpture of a person's head, possibly a witch or a demon, sitting on top of a table. The statue appears to be made of ceramic or a similar material, giving it a unique and intriguing appearance.   In the background, there are two chairs, one on the left side and the other on the right side of the table. Additionally, there is a bowl placed on the table, slightly to the left of the center of the image. The combination of the statue, chairs, and bowl creates an interesting and visually engaging scene.\n"
     ]
    }
   ],
   "source": [
    "print(df['Captions'][0])"
   ]
  },
  {
   "cell_type": "code",
   "execution_count": 140,
   "metadata": {},
   "outputs": [
    {
     "name": "stdout",
     "output_type": "stream",
     "text": [
      "13946670082\n"
     ]
    }
   ],
   "source": [
    "print(df['GroundImageIDs'][0])"
   ]
  },
  {
   "cell_type": "code",
   "execution_count": 141,
   "metadata": {},
   "outputs": [
    {
     "name": "stdout",
     "output_type": "stream",
     "text": [
      "This image depicts an empty street on a rainy day. The road is wet, reflecting the cloudy sky above. The street is lined with trees on both sides\n"
     ]
    }
   ],
   "source": [
    "print(df['Summarization'][1])"
   ]
  },
  {
   "cell_type": "code",
   "execution_count": 142,
   "metadata": {},
   "outputs": [
    {
     "name": "stdout",
     "output_type": "stream",
     "text": [
      "1. The image depicts an empty street on a rainy day. The road is wet, reflecting the cloudy sky above. The street is lined with trees on both sides, creating a serene atmosphere. There are a few cars parked on the side of the road, and a truck can be seen further down the street. Additionally, a bird is perched on a power line, adding a touch of nature to the scene. The overall mood of the image is calm and peaceful, despite the rainy weather.\n"
     ]
    }
   ],
   "source": [
    "print(df['Captions'][1])"
   ]
  },
  {
   "cell_type": "code",
   "execution_count": 143,
   "metadata": {},
   "outputs": [
    {
     "name": "stdout",
     "output_type": "stream",
     "text": [
      "15483670089\n"
     ]
    }
   ],
   "source": [
    "print(df['GroundImageIDs'][1])"
   ]
  },
  {
   "cell_type": "code",
   "execution_count": 144,
   "metadata": {},
   "outputs": [
    {
     "name": "stdout",
     "output_type": "stream",
     "text": [
      "This image depicts a cave with a small stream of water flowing through it. The cave is surrounded by lush green vegetation, creating a serene and natural atmosphere.\n"
     ]
    }
   ],
   "source": [
    "print(df['Summarization'][2])"
   ]
  },
  {
   "cell_type": "code",
   "execution_count": 145,
   "metadata": {},
   "outputs": [
    {
     "name": "stdout",
     "output_type": "stream",
     "text": [
      "1. The image depicts a cave with a small stream of water flowing through it. The cave is surrounded by lush green vegetation, creating a serene and natural atmosphere. The stream of water is located in the middle of the cave, and it appears to be the main focus of the scene.   In addition to the water and vegetation, there is a person visible in the background, possibly exploring the cave or enjoying the scenery. The combination of the cave, water, and greenery creates a picturesque and captivating environment.\n"
     ]
    }
   ],
   "source": [
    "print(df['Captions'][2])"
   ]
  },
  {
   "cell_type": "code",
   "execution_count": 146,
   "metadata": {},
   "outputs": [
    {
     "name": "stdout",
     "output_type": "stream",
     "text": [
      "8604640080\n"
     ]
    }
   ],
   "source": [
    "print(df['GroundImageIDs'][2])"
   ]
  },
  {
   "cell_type": "markdown",
   "metadata": {},
   "source": [
    "### Not yet to the step where can have multiple captions for one satellite image, need to try on more data"
   ]
  },
  {
   "cell_type": "code",
   "execution_count": 156,
   "metadata": {},
   "outputs": [
    {
     "data": {
      "text/plain": [
       "numpy.int64"
      ]
     },
     "execution_count": 156,
     "metadata": {},
     "output_type": "execute_result"
    }
   ],
   "source": []
  },
  {
   "cell_type": "code",
   "execution_count": 9,
   "metadata": {},
   "outputs": [
    {
     "data": {
      "text/html": [
       "<div>\n",
       "<style scoped>\n",
       "    .dataframe tbody tr th:only-of-type {\n",
       "        vertical-align: middle;\n",
       "    }\n",
       "\n",
       "    .dataframe tbody tr th {\n",
       "        vertical-align: top;\n",
       "    }\n",
       "\n",
       "    .dataframe thead th {\n",
       "        text-align: right;\n",
       "    }\n",
       "</style>\n",
       "<table border=\"1\" class=\"dataframe\">\n",
       "  <thead>\n",
       "    <tr style=\"text-align: right;\">\n",
       "      <th></th>\n",
       "      <th>SatelliteID</th>\n",
       "      <th>Summarization</th>\n",
       "      <th>Captions</th>\n",
       "      <th>GroundImageIDs</th>\n",
       "    </tr>\n",
       "  </thead>\n",
       "  <tbody>\n",
       "    <tr>\n",
       "      <th>1541</th>\n",
       "      <td>The image features a statue of a person's head...</td>\n",
       "      <td>1. The image features a small statue or sculpt...</td>\n",
       "      <td>13946670082</td>\n",
       "      <td>1541</td>\n",
       "    </tr>\n",
       "    <tr>\n",
       "      <th>1665</th>\n",
       "      <td>This image depicts an empty street on a rainy ...</td>\n",
       "      <td>1. The image depicts an empty street on a rain...</td>\n",
       "      <td>15483670089</td>\n",
       "      <td>1665</td>\n",
       "    </tr>\n",
       "    <tr>\n",
       "      <th>2406</th>\n",
       "      <td>The image depicts a cave with a small stream o...</td>\n",
       "      <td>1. The image depicts a cave with a small strea...</td>\n",
       "      <td>8604640080</td>\n",
       "      <td>2406</td>\n",
       "    </tr>\n",
       "  </tbody>\n",
       "</table>\n",
       "</div>"
      ],
      "text/plain": [
       "                                            SatelliteID  \\\n",
       "1541  The image features a statue of a person's head...   \n",
       "1665  This image depicts an empty street on a rainy ...   \n",
       "2406  The image depicts a cave with a small stream o...   \n",
       "\n",
       "                                          Summarization     Captions  \\\n",
       "1541  1. The image features a small statue or sculpt...  13946670082   \n",
       "1665  1. The image depicts an empty street on a rain...  15483670089   \n",
       "2406  1. The image depicts a cave with a small strea...   8604640080   \n",
       "\n",
       "      GroundImageIDs  \n",
       "1541            1541  \n",
       "1665            1665  \n",
       "2406            2406  "
      ]
     },
     "execution_count": 9,
     "metadata": {},
     "output_type": "execute_result"
    }
   ],
   "source": [
    "df = pd.read_csv('summarizations_subset.csv')\n",
    "df"
   ]
  },
  {
   "cell_type": "code",
   "execution_count": null,
   "metadata": {},
   "outputs": [],
   "source": []
  },
  {
   "cell_type": "code",
   "execution_count": null,
   "metadata": {},
   "outputs": [],
   "source": []
  }
 ],
 "metadata": {
  "kernelspec": {
   "display_name": "summer24",
   "language": "python",
   "name": "python3"
  },
  "language_info": {
   "codemirror_mode": {
    "name": "ipython",
    "version": 3
   },
   "file_extension": ".py",
   "mimetype": "text/x-python",
   "name": "python",
   "nbconvert_exporter": "python",
   "pygments_lexer": "ipython3",
   "version": "3.10.13"
  }
 },
 "nbformat": 4,
 "nbformat_minor": 2
}
