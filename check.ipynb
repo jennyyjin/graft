{
 "cells": [
  {
   "cell_type": "code",
   "execution_count": 1,
   "metadata": {},
   "outputs": [],
   "source": [
    "import pandas as pd"
   ]
  },
  {
   "cell_type": "code",
   "execution_count": 137,
   "metadata": {},
   "outputs": [
    {
     "data": {
      "text/html": [
       "<div>\n",
       "<style scoped>\n",
       "    .dataframe tbody tr th:only-of-type {\n",
       "        vertical-align: middle;\n",
       "    }\n",
       "\n",
       "    .dataframe tbody tr th {\n",
       "        vertical-align: top;\n",
       "    }\n",
       "\n",
       "    .dataframe thead th {\n",
       "        text-align: right;\n",
       "    }\n",
       "</style>\n",
       "<table border=\"1\" class=\"dataframe\">\n",
       "  <thead>\n",
       "    <tr style=\"text-align: right;\">\n",
       "      <th></th>\n",
       "      <th>SatelliteID</th>\n",
       "      <th>Summarization</th>\n",
       "      <th>Captions</th>\n",
       "      <th>GroundImageIDs</th>\n",
       "    </tr>\n",
       "  </thead>\n",
       "  <tbody>\n",
       "    <tr>\n",
       "      <th>0</th>\n",
       "      <td>1541</td>\n",
       "      <td>The image features a small statue or sculpture...</td>\n",
       "      <td>1. The image features a small statue or sculpt...</td>\n",
       "      <td>13946670082</td>\n",
       "    </tr>\n",
       "    <tr>\n",
       "      <th>1</th>\n",
       "      <td>1665</td>\n",
       "      <td>This image depicts an empty street on a rainy ...</td>\n",
       "      <td>1. The image depicts an empty street on a rain...</td>\n",
       "      <td>15483670089</td>\n",
       "    </tr>\n",
       "    <tr>\n",
       "      <th>2</th>\n",
       "      <td>2406</td>\n",
       "      <td>This image depicts a cave with a small stream ...</td>\n",
       "      <td>1. The image depicts a cave with a small strea...</td>\n",
       "      <td>8604640080</td>\n",
       "    </tr>\n",
       "    <tr>\n",
       "      <th>3</th>\n",
       "      <td>2407</td>\n",
       "      <td>This image depicts a cave with a small stream ...</td>\n",
       "      <td>1. The image depicts a cave with a small strea...</td>\n",
       "      <td>8604640080</td>\n",
       "    </tr>\n",
       "    <tr>\n",
       "      <th>4</th>\n",
       "      <td>3597</td>\n",
       "      <td>A woman is standing in a bouncy house filled w...</td>\n",
       "      <td>1. The image depicts a woman standing in a bou...</td>\n",
       "      <td>37274280082</td>\n",
       "    </tr>\n",
       "    <tr>\n",
       "      <th>...</th>\n",
       "      <td>...</td>\n",
       "      <td>...</td>\n",
       "      <td>...</td>\n",
       "      <td>...</td>\n",
       "    </tr>\n",
       "    <tr>\n",
       "      <th>178</th>\n",
       "      <td>287515</td>\n",
       "      <td>The satellite image features a large metal obj...</td>\n",
       "      <td>1. The image features a large metal object, po...</td>\n",
       "      <td>48091350082</td>\n",
       "    </tr>\n",
       "    <tr>\n",
       "      <th>179</th>\n",
       "      <td>287517</td>\n",
       "      <td>The image features a large metal object, possi...</td>\n",
       "      <td>1. The image features a large metal object, po...</td>\n",
       "      <td>48091350082</td>\n",
       "    </tr>\n",
       "    <tr>\n",
       "      <th>180</th>\n",
       "      <td>287707</td>\n",
       "      <td>The image features a snow-covered roof with a ...</td>\n",
       "      <td>1. The image features a snow-covered roof with...</td>\n",
       "      <td>52647390089</td>\n",
       "    </tr>\n",
       "    <tr>\n",
       "      <th>181</th>\n",
       "      <td>287708</td>\n",
       "      <td>The image features a snow-covered roof with a ...</td>\n",
       "      <td>1. The image features a snow-covered roof with...</td>\n",
       "      <td>52647390089</td>\n",
       "    </tr>\n",
       "    <tr>\n",
       "      <th>182</th>\n",
       "      <td>289329</td>\n",
       "      <td>The image depicts a lively restaurant scene wi...</td>\n",
       "      <td>1. The image depicts a lively restaurant scene...</td>\n",
       "      <td>53006770089</td>\n",
       "    </tr>\n",
       "  </tbody>\n",
       "</table>\n",
       "<p>183 rows × 4 columns</p>\n",
       "</div>"
      ],
      "text/plain": [
       "     SatelliteID                                      Summarization  \\\n",
       "0           1541  The image features a small statue or sculpture...   \n",
       "1           1665  This image depicts an empty street on a rainy ...   \n",
       "2           2406  This image depicts a cave with a small stream ...   \n",
       "3           2407  This image depicts a cave with a small stream ...   \n",
       "4           3597  A woman is standing in a bouncy house filled w...   \n",
       "..           ...                                                ...   \n",
       "178       287515  The satellite image features a large metal obj...   \n",
       "179       287517  The image features a large metal object, possi...   \n",
       "180       287707  The image features a snow-covered roof with a ...   \n",
       "181       287708  The image features a snow-covered roof with a ...   \n",
       "182       289329  The image depicts a lively restaurant scene wi...   \n",
       "\n",
       "                                              Captions  GroundImageIDs  \n",
       "0    1. The image features a small statue or sculpt...     13946670082  \n",
       "1    1. The image depicts an empty street on a rain...     15483670089  \n",
       "2    1. The image depicts a cave with a small strea...      8604640080  \n",
       "3    1. The image depicts a cave with a small strea...      8604640080  \n",
       "4    1. The image depicts a woman standing in a bou...     37274280082  \n",
       "..                                                 ...             ...  \n",
       "178  1. The image features a large metal object, po...     48091350082  \n",
       "179  1. The image features a large metal object, po...     48091350082  \n",
       "180  1. The image features a snow-covered roof with...     52647390089  \n",
       "181  1. The image features a snow-covered roof with...     52647390089  \n",
       "182  1. The image depicts a lively restaurant scene...     53006770089  \n",
       "\n",
       "[183 rows x 4 columns]"
      ]
     },
     "execution_count": 137,
     "metadata": {},
     "output_type": "execute_result"
    }
   ],
   "source": [
    "df = pd.read_csv('summarizations.csv')\n",
    "df"
   ]
  },
  {
   "cell_type": "code",
   "execution_count": 138,
   "metadata": {},
   "outputs": [
    {
     "name": "stdout",
     "output_type": "stream",
     "text": [
      "The image features a small statue or sculpture of a person's head, possibly a witch or a demon, sitting on top of a table. The statue appears\n"
     ]
    }
   ],
   "source": [
    "print(df['Summarization'][0])"
   ]
  },
  {
   "cell_type": "code",
   "execution_count": 139,
   "metadata": {},
   "outputs": [
    {
     "name": "stdout",
     "output_type": "stream",
     "text": [
      "1. The image features a small statue or sculpture of a person's head, possibly a witch or a demon, sitting on top of a table. The statue appears to be made of ceramic or a similar material, giving it a unique and intriguing appearance.   In the background, there are two chairs, one on the left side and the other on the right side of the table. Additionally, there is a bowl placed on the table, slightly to the left of the center of the image. The combination of the statue, chairs, and bowl creates an interesting and visually engaging scene.\n"
     ]
    }
   ],
   "source": [
    "print(df['Captions'][0])"
   ]
  },
  {
   "cell_type": "code",
   "execution_count": 140,
   "metadata": {},
   "outputs": [
    {
     "name": "stdout",
     "output_type": "stream",
     "text": [
      "13946670082\n"
     ]
    }
   ],
   "source": [
    "print(df['GroundImageIDs'][0])"
   ]
  },
  {
   "cell_type": "code",
   "execution_count": 141,
   "metadata": {},
   "outputs": [
    {
     "name": "stdout",
     "output_type": "stream",
     "text": [
      "This image depicts an empty street on a rainy day. The road is wet, reflecting the cloudy sky above. The street is lined with trees on both sides\n"
     ]
    }
   ],
   "source": [
    "print(df['Summarization'][1])"
   ]
  },
  {
   "cell_type": "code",
   "execution_count": 142,
   "metadata": {},
   "outputs": [
    {
     "name": "stdout",
     "output_type": "stream",
     "text": [
      "1. The image depicts an empty street on a rainy day. The road is wet, reflecting the cloudy sky above. The street is lined with trees on both sides, creating a serene atmosphere. There are a few cars parked on the side of the road, and a truck can be seen further down the street. Additionally, a bird is perched on a power line, adding a touch of nature to the scene. The overall mood of the image is calm and peaceful, despite the rainy weather.\n"
     ]
    }
   ],
   "source": [
    "print(df['Captions'][1])"
   ]
  },
  {
   "cell_type": "code",
   "execution_count": 143,
   "metadata": {},
   "outputs": [
    {
     "name": "stdout",
     "output_type": "stream",
     "text": [
      "15483670089\n"
     ]
    }
   ],
   "source": [
    "print(df['GroundImageIDs'][1])"
   ]
  },
  {
   "cell_type": "code",
   "execution_count": 144,
   "metadata": {},
   "outputs": [
    {
     "name": "stdout",
     "output_type": "stream",
     "text": [
      "This image depicts a cave with a small stream of water flowing through it. The cave is surrounded by lush green vegetation, creating a serene and natural atmosphere.\n"
     ]
    }
   ],
   "source": [
    "print(df['Summarization'][2])"
   ]
  },
  {
   "cell_type": "code",
   "execution_count": 145,
   "metadata": {},
   "outputs": [
    {
     "name": "stdout",
     "output_type": "stream",
     "text": [
      "1. The image depicts a cave with a small stream of water flowing through it. The cave is surrounded by lush green vegetation, creating a serene and natural atmosphere. The stream of water is located in the middle of the cave, and it appears to be the main focus of the scene.   In addition to the water and vegetation, there is a person visible in the background, possibly exploring the cave or enjoying the scenery. The combination of the cave, water, and greenery creates a picturesque and captivating environment.\n"
     ]
    }
   ],
   "source": [
    "print(df['Captions'][2])"
   ]
  },
  {
   "cell_type": "code",
   "execution_count": 146,
   "metadata": {},
   "outputs": [
    {
     "name": "stdout",
     "output_type": "stream",
     "text": [
      "8604640080\n"
     ]
    }
   ],
   "source": [
    "print(df['GroundImageIDs'][2])"
   ]
  },
  {
   "cell_type": "markdown",
   "metadata": {},
   "source": [
    "### Not yet to the step where can have multiple captions for one satellite image, need to try on more data"
   ]
  },
  {
   "cell_type": "code",
   "execution_count": 156,
   "metadata": {},
   "outputs": [
    {
     "data": {
      "text/plain": [
       "numpy.int64"
      ]
     },
     "execution_count": 156,
     "metadata": {},
     "output_type": "execute_result"
    }
   ],
   "source": []
  },
  {
   "cell_type": "code",
   "execution_count": 38,
   "metadata": {},
   "outputs": [
    {
     "data": {
      "text/html": [
       "<div>\n",
       "<style scoped>\n",
       "    .dataframe tbody tr th:only-of-type {\n",
       "        vertical-align: middle;\n",
       "    }\n",
       "\n",
       "    .dataframe tbody tr th {\n",
       "        vertical-align: top;\n",
       "    }\n",
       "\n",
       "    .dataframe thead th {\n",
       "        text-align: right;\n",
       "    }\n",
       "</style>\n",
       "<table border=\"1\" class=\"dataframe\">\n",
       "  <thead>\n",
       "    <tr style=\"text-align: right;\">\n",
       "      <th></th>\n",
       "      <th>SatelliteID</th>\n",
       "      <th>Summarization</th>\n",
       "      <th>Captions</th>\n",
       "      <th>GroundImageIDs</th>\n",
       "    </tr>\n",
       "  </thead>\n",
       "  <tbody>\n",
       "    <tr>\n",
       "      <th>0</th>\n",
       "      <td>19</td>\n",
       "      <td>The image features a statue of a bird, possibl...</td>\n",
       "      <td>1. The image features a statue of a bird, poss...</td>\n",
       "      <td>29881810051</td>\n",
       "    </tr>\n",
       "    <tr>\n",
       "      <th>1</th>\n",
       "      <td>74</td>\n",
       "      <td>In the 1970s and 1980s, the stained glass ceil...</td>\n",
       "      <td>1. The image features a large, colorful staine...</td>\n",
       "      <td>29014260055</td>\n",
       "    </tr>\n",
       "    <tr>\n",
       "      <th>2</th>\n",
       "      <td>134</td>\n",
       "      <td>[The image features a large military helicopte...</td>\n",
       "      <td>1. The image features a large military helicop...</td>\n",
       "      <td>37428220445</td>\n",
       "    </tr>\n",
       "    <tr>\n",
       "      <th>3</th>\n",
       "      <td>179</td>\n",
       "      <td>Summarize the text in bracket. [The image show...</td>\n",
       "      <td>1. The image captures a serene view of a large...</td>\n",
       "      <td>27868870034</td>\n",
       "    </tr>\n",
       "    <tr>\n",
       "      <th>4</th>\n",
       "      <td>183</td>\n",
       "      <td>Summarize the text in bracket.[The image captu...</td>\n",
       "      <td>1. The image captures a breathtaking view of t...</td>\n",
       "      <td>29693920062</td>\n",
       "    </tr>\n",
       "    <tr>\n",
       "      <th>5</th>\n",
       "      <td>188</td>\n",
       "      <td>This is a great place to visit, but not on wee...</td>\n",
       "      <td>1. The image depicts a group of three people w...</td>\n",
       "      <td>45345810014</td>\n",
       "    </tr>\n",
       "    <tr>\n",
       "      <th>6</th>\n",
       "      <td>198</td>\n",
       "      <td>Welcome to the world of free online text summa...</td>\n",
       "      <td>1. The image depicts a large bridge spanning a...</td>\n",
       "      <td>29693920472</td>\n",
       "    </tr>\n",
       "    <tr>\n",
       "      <th>7</th>\n",
       "      <td>224</td>\n",
       "      <td>The image features a tree with a bunch of yell...</td>\n",
       "      <td>1. The image features a tree with a bunch of y...</td>\n",
       "      <td>29967430015</td>\n",
       "    </tr>\n",
       "    <tr>\n",
       "      <th>8</th>\n",
       "      <td>227</td>\n",
       "      <td>The image features a tree with a bunch of yell...</td>\n",
       "      <td>1. The image features a tree with a bunch of y...</td>\n",
       "      <td>29967430015</td>\n",
       "    </tr>\n",
       "    <tr>\n",
       "      <th>9</th>\n",
       "      <td>249</td>\n",
       "      <td>Congratulations! You have successfully complet...</td>\n",
       "      <td>1. The image depicts a picturesque scene of a ...</td>\n",
       "      <td>28866580095</td>\n",
       "    </tr>\n",
       "  </tbody>\n",
       "</table>\n",
       "</div>"
      ],
      "text/plain": [
       "   SatelliteID                                      Summarization  \\\n",
       "0           19  The image features a statue of a bird, possibl...   \n",
       "1           74  In the 1970s and 1980s, the stained glass ceil...   \n",
       "2          134  [The image features a large military helicopte...   \n",
       "3          179  Summarize the text in bracket. [The image show...   \n",
       "4          183  Summarize the text in bracket.[The image captu...   \n",
       "5          188  This is a great place to visit, but not on wee...   \n",
       "6          198  Welcome to the world of free online text summa...   \n",
       "7          224  The image features a tree with a bunch of yell...   \n",
       "8          227  The image features a tree with a bunch of yell...   \n",
       "9          249  Congratulations! You have successfully complet...   \n",
       "\n",
       "                                            Captions  GroundImageIDs  \n",
       "0  1. The image features a statue of a bird, poss...     29881810051  \n",
       "1  1. The image features a large, colorful staine...     29014260055  \n",
       "2  1. The image features a large military helicop...     37428220445  \n",
       "3  1. The image captures a serene view of a large...     27868870034  \n",
       "4  1. The image captures a breathtaking view of t...     29693920062  \n",
       "5  1. The image depicts a group of three people w...     45345810014  \n",
       "6  1. The image depicts a large bridge spanning a...     29693920472  \n",
       "7  1. The image features a tree with a bunch of y...     29967430015  \n",
       "8  1. The image features a tree with a bunch of y...     29967430015  \n",
       "9  1. The image depicts a picturesque scene of a ...     28866580095  "
      ]
     },
     "execution_count": 38,
     "metadata": {},
     "output_type": "execute_result"
    }
   ],
   "source": [
    "df = pd.read_csv('summarizations_subset.csv')\n",
    "df"
   ]
  },
  {
   "cell_type": "code",
   "execution_count": 39,
   "metadata": {},
   "outputs": [
    {
     "name": "stdout",
     "output_type": "stream",
     "text": [
      "The image features a statue of a bird, possibly a bird of prey like a hawk or an eagle, sitting on top of a stone pedestal\n"
     ]
    }
   ],
   "source": [
    "print(df['Summarization'][0])"
   ]
  },
  {
   "cell_type": "code",
   "execution_count": 40,
   "metadata": {},
   "outputs": [
    {
     "name": "stdout",
     "output_type": "stream",
     "text": [
      "1. The image features a statue of a bird, possibly a bird of prey like a hawk or an eagle, sitting on top of a stone pedestal. The bird statue appears to be wearing a crown, giving it a majestic and regal appearance. The statue is positioned in front of a sign, which could be providing information about the bird or its surroundings. The scene is set outdoors, possibly in a park or a similar public space.\n"
     ]
    }
   ],
   "source": [
    "print(df['Captions'][0])"
   ]
  },
  {
   "cell_type": "code",
   "execution_count": 41,
   "metadata": {},
   "outputs": [
    {
     "name": "stdout",
     "output_type": "stream",
     "text": [
      "In the 1970s and 1980s, the stained glass ceiling was a popular design trend in architecture. Stained glass\n"
     ]
    }
   ],
   "source": [
    "print(df['Summarization'][1])"
   ]
  },
  {
   "cell_type": "code",
   "execution_count": 42,
   "metadata": {},
   "outputs": [
    {
     "name": "stdout",
     "output_type": "stream",
     "text": [
      "1. The image features a large, colorful stained glass ceiling in a building. The ceiling is adorned with a vibrant mosaic design, showcasing a variety of colors and patterns. The stained glass is illuminated by sunlight, casting a warm and inviting glow throughout the space.   In addition to the stained glass ceiling, the room is filled with a multitude of windows, allowing natural light to flood the area. The combination of the stained glass ceiling and the abundance of windows creates a visually stunning and inviting atmosphere in the building.\n"
     ]
    }
   ],
   "source": [
    "print(df['Captions'][1])"
   ]
  },
  {
   "cell_type": "code",
   "execution_count": 29,
   "metadata": {},
   "outputs": [
    {
     "name": "stdout",
     "output_type": "stream",
     "text": [
      "# References\n",
      "\n",
      "[1] [2]\n",
      "\n",
      "[3] [4]\n",
      "\n",
      "# Homework\n",
      "\n",
      "# A. Assignment 1\n"
     ]
    }
   ],
   "source": [
    "print(df['Summarization'][2])"
   ]
  },
  {
   "cell_type": "code",
   "execution_count": 23,
   "metadata": {},
   "outputs": [
    {
     "name": "stdout",
     "output_type": "stream",
     "text": [
      "1. The image features a large military helicopter parked on a tarmac, surrounded by several people. The helicopter has its door open, allowing people to enter or exit the aircraft. There are at least nine people visible in the scene, with some standing closer to the helicopter and others further away.   In addition to the helicopter, there are a couple of cars parked in the vicinity. One car is located on the left side of the helicopter, while the other car is parked on the right side. The scene appears to be a gathering or event involving the military helicopter and the people around it.\n"
     ]
    }
   ],
   "source": [
    "print(df['Captions'][2])"
   ]
  },
  {
   "cell_type": "code",
   "execution_count": null,
   "metadata": {},
   "outputs": [],
   "source": []
  }
 ],
 "metadata": {
  "kernelspec": {
   "display_name": "summer24",
   "language": "python",
   "name": "python3"
  },
  "language_info": {
   "codemirror_mode": {
    "name": "ipython",
    "version": 3
   },
   "file_extension": ".py",
   "mimetype": "text/x-python",
   "name": "python",
   "nbconvert_exporter": "python",
   "pygments_lexer": "ipython3",
   "version": "3.10.13"
  }
 },
 "nbformat": 4,
 "nbformat_minor": 2
}
