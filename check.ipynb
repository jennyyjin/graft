{
 "cells": [
  {
   "cell_type": "code",
   "execution_count": null,
   "metadata": {},
   "outputs": [],
   "source": [
    "import pandas as pd"
   ]
  },
  {
   "cell_type": "code",
   "execution_count": 137,
   "metadata": {},
   "outputs": [
    {
     "data": {
      "text/html": [
       "<div>\n",
       "<style scoped>\n",
       "    .dataframe tbody tr th:only-of-type {\n",
       "        vertical-align: middle;\n",
       "    }\n",
       "\n",
       "    .dataframe tbody tr th {\n",
       "        vertical-align: top;\n",
       "    }\n",
       "\n",
       "    .dataframe thead th {\n",
       "        text-align: right;\n",
       "    }\n",
       "</style>\n",
       "<table border=\"1\" class=\"dataframe\">\n",
       "  <thead>\n",
       "    <tr style=\"text-align: right;\">\n",
       "      <th></th>\n",
       "      <th>SatelliteID</th>\n",
       "      <th>Summarization</th>\n",
       "      <th>Captions</th>\n",
       "      <th>GroundImageIDs</th>\n",
       "    </tr>\n",
       "  </thead>\n",
       "  <tbody>\n",
       "    <tr>\n",
       "      <th>0</th>\n",
       "      <td>1541</td>\n",
       "      <td>The image features a small statue or sculpture...</td>\n",
       "      <td>1. The image features a small statue or sculpt...</td>\n",
       "      <td>13946670082</td>\n",
       "    </tr>\n",
       "    <tr>\n",
       "      <th>1</th>\n",
       "      <td>1665</td>\n",
       "      <td>This image depicts an empty street on a rainy ...</td>\n",
       "      <td>1. The image depicts an empty street on a rain...</td>\n",
       "      <td>15483670089</td>\n",
       "    </tr>\n",
       "    <tr>\n",
       "      <th>2</th>\n",
       "      <td>2406</td>\n",
       "      <td>This image depicts a cave with a small stream ...</td>\n",
       "      <td>1. The image depicts a cave with a small strea...</td>\n",
       "      <td>8604640080</td>\n",
       "    </tr>\n",
       "    <tr>\n",
       "      <th>3</th>\n",
       "      <td>2407</td>\n",
       "      <td>This image depicts a cave with a small stream ...</td>\n",
       "      <td>1. The image depicts a cave with a small strea...</td>\n",
       "      <td>8604640080</td>\n",
       "    </tr>\n",
       "    <tr>\n",
       "      <th>4</th>\n",
       "      <td>3597</td>\n",
       "      <td>A woman is standing in a bouncy house filled w...</td>\n",
       "      <td>1. The image depicts a woman standing in a bou...</td>\n",
       "      <td>37274280082</td>\n",
       "    </tr>\n",
       "    <tr>\n",
       "      <th>...</th>\n",
       "      <td>...</td>\n",
       "      <td>...</td>\n",
       "      <td>...</td>\n",
       "      <td>...</td>\n",
       "    </tr>\n",
       "    <tr>\n",
       "      <th>178</th>\n",
       "      <td>287515</td>\n",
       "      <td>The satellite image features a large metal obj...</td>\n",
       "      <td>1. The image features a large metal object, po...</td>\n",
       "      <td>48091350082</td>\n",
       "    </tr>\n",
       "    <tr>\n",
       "      <th>179</th>\n",
       "      <td>287517</td>\n",
       "      <td>The image features a large metal object, possi...</td>\n",
       "      <td>1. The image features a large metal object, po...</td>\n",
       "      <td>48091350082</td>\n",
       "    </tr>\n",
       "    <tr>\n",
       "      <th>180</th>\n",
       "      <td>287707</td>\n",
       "      <td>The image features a snow-covered roof with a ...</td>\n",
       "      <td>1. The image features a snow-covered roof with...</td>\n",
       "      <td>52647390089</td>\n",
       "    </tr>\n",
       "    <tr>\n",
       "      <th>181</th>\n",
       "      <td>287708</td>\n",
       "      <td>The image features a snow-covered roof with a ...</td>\n",
       "      <td>1. The image features a snow-covered roof with...</td>\n",
       "      <td>52647390089</td>\n",
       "    </tr>\n",
       "    <tr>\n",
       "      <th>182</th>\n",
       "      <td>289329</td>\n",
       "      <td>The image depicts a lively restaurant scene wi...</td>\n",
       "      <td>1. The image depicts a lively restaurant scene...</td>\n",
       "      <td>53006770089</td>\n",
       "    </tr>\n",
       "  </tbody>\n",
       "</table>\n",
       "<p>183 rows × 4 columns</p>\n",
       "</div>"
      ],
      "text/plain": [
       "     SatelliteID                                      Summarization  \\\n",
       "0           1541  The image features a small statue or sculpture...   \n",
       "1           1665  This image depicts an empty street on a rainy ...   \n",
       "2           2406  This image depicts a cave with a small stream ...   \n",
       "3           2407  This image depicts a cave with a small stream ...   \n",
       "4           3597  A woman is standing in a bouncy house filled w...   \n",
       "..           ...                                                ...   \n",
       "178       287515  The satellite image features a large metal obj...   \n",
       "179       287517  The image features a large metal object, possi...   \n",
       "180       287707  The image features a snow-covered roof with a ...   \n",
       "181       287708  The image features a snow-covered roof with a ...   \n",
       "182       289329  The image depicts a lively restaurant scene wi...   \n",
       "\n",
       "                                              Captions  GroundImageIDs  \n",
       "0    1. The image features a small statue or sculpt...     13946670082  \n",
       "1    1. The image depicts an empty street on a rain...     15483670089  \n",
       "2    1. The image depicts a cave with a small strea...      8604640080  \n",
       "3    1. The image depicts a cave with a small strea...      8604640080  \n",
       "4    1. The image depicts a woman standing in a bou...     37274280082  \n",
       "..                                                 ...             ...  \n",
       "178  1. The image features a large metal object, po...     48091350082  \n",
       "179  1. The image features a large metal object, po...     48091350082  \n",
       "180  1. The image features a snow-covered roof with...     52647390089  \n",
       "181  1. The image features a snow-covered roof with...     52647390089  \n",
       "182  1. The image depicts a lively restaurant scene...     53006770089  \n",
       "\n",
       "[183 rows x 4 columns]"
      ]
     },
     "execution_count": 137,
     "metadata": {},
     "output_type": "execute_result"
    }
   ],
   "source": [
    "df = pd.read_csv('summarizations.csv')\n",
    "df"
   ]
  },
  {
   "cell_type": "code",
   "execution_count": 138,
   "metadata": {},
   "outputs": [
    {
     "name": "stdout",
     "output_type": "stream",
     "text": [
      "The image features a small statue or sculpture of a person's head, possibly a witch or a demon, sitting on top of a table. The statue appears\n"
     ]
    }
   ],
   "source": [
    "print(df['Summarization'][0])"
   ]
  },
  {
   "cell_type": "code",
   "execution_count": 139,
   "metadata": {},
   "outputs": [
    {
     "name": "stdout",
     "output_type": "stream",
     "text": [
      "1. The image features a small statue or sculpture of a person's head, possibly a witch or a demon, sitting on top of a table. The statue appears to be made of ceramic or a similar material, giving it a unique and intriguing appearance.   In the background, there are two chairs, one on the left side and the other on the right side of the table. Additionally, there is a bowl placed on the table, slightly to the left of the center of the image. The combination of the statue, chairs, and bowl creates an interesting and visually engaging scene.\n"
     ]
    }
   ],
   "source": [
    "print(df['Captions'][0])"
   ]
  },
  {
   "cell_type": "code",
   "execution_count": 140,
   "metadata": {},
   "outputs": [
    {
     "name": "stdout",
     "output_type": "stream",
     "text": [
      "13946670082\n"
     ]
    }
   ],
   "source": [
    "print(df['GroundImageIDs'][0])"
   ]
  },
  {
   "cell_type": "code",
   "execution_count": 141,
   "metadata": {},
   "outputs": [
    {
     "name": "stdout",
     "output_type": "stream",
     "text": [
      "This image depicts an empty street on a rainy day. The road is wet, reflecting the cloudy sky above. The street is lined with trees on both sides\n"
     ]
    }
   ],
   "source": [
    "print(df['Summarization'][1])"
   ]
  },
  {
   "cell_type": "code",
   "execution_count": 142,
   "metadata": {},
   "outputs": [
    {
     "name": "stdout",
     "output_type": "stream",
     "text": [
      "1. The image depicts an empty street on a rainy day. The road is wet, reflecting the cloudy sky above. The street is lined with trees on both sides, creating a serene atmosphere. There are a few cars parked on the side of the road, and a truck can be seen further down the street. Additionally, a bird is perched on a power line, adding a touch of nature to the scene. The overall mood of the image is calm and peaceful, despite the rainy weather.\n"
     ]
    }
   ],
   "source": [
    "print(df['Captions'][1])"
   ]
  },
  {
   "cell_type": "code",
   "execution_count": 143,
   "metadata": {},
   "outputs": [
    {
     "name": "stdout",
     "output_type": "stream",
     "text": [
      "15483670089\n"
     ]
    }
   ],
   "source": [
    "print(df['GroundImageIDs'][1])"
   ]
  },
  {
   "cell_type": "code",
   "execution_count": 144,
   "metadata": {},
   "outputs": [
    {
     "name": "stdout",
     "output_type": "stream",
     "text": [
      "This image depicts a cave with a small stream of water flowing through it. The cave is surrounded by lush green vegetation, creating a serene and natural atmosphere.\n"
     ]
    }
   ],
   "source": [
    "print(df['Summarization'][2])"
   ]
  },
  {
   "cell_type": "code",
   "execution_count": 145,
   "metadata": {},
   "outputs": [
    {
     "name": "stdout",
     "output_type": "stream",
     "text": [
      "1. The image depicts a cave with a small stream of water flowing through it. The cave is surrounded by lush green vegetation, creating a serene and natural atmosphere. The stream of water is located in the middle of the cave, and it appears to be the main focus of the scene.   In addition to the water and vegetation, there is a person visible in the background, possibly exploring the cave or enjoying the scenery. The combination of the cave, water, and greenery creates a picturesque and captivating environment.\n"
     ]
    }
   ],
   "source": [
    "print(df['Captions'][2])"
   ]
  },
  {
   "cell_type": "code",
   "execution_count": 146,
   "metadata": {},
   "outputs": [
    {
     "name": "stdout",
     "output_type": "stream",
     "text": [
      "8604640080\n"
     ]
    }
   ],
   "source": [
    "print(df['GroundImageIDs'][2])"
   ]
  },
  {
   "cell_type": "markdown",
   "metadata": {},
   "source": [
    "### Not yet to the step where can have multiple captions for one satellite image, need to try on more data"
   ]
  },
  {
   "cell_type": "code",
   "execution_count": 2,
   "metadata": {},
   "outputs": [],
   "source": [
    "import pandas as pd"
   ]
  },
  {
   "cell_type": "code",
   "execution_count": 3,
   "metadata": {},
   "outputs": [
    {
     "data": {
      "text/html": [
       "<div>\n",
       "<style scoped>\n",
       "    .dataframe tbody tr th:only-of-type {\n",
       "        vertical-align: middle;\n",
       "    }\n",
       "\n",
       "    .dataframe tbody tr th {\n",
       "        vertical-align: top;\n",
       "    }\n",
       "\n",
       "    .dataframe thead th {\n",
       "        text-align: right;\n",
       "    }\n",
       "</style>\n",
       "<table border=\"1\" class=\"dataframe\">\n",
       "  <thead>\n",
       "    <tr style=\"text-align: right;\">\n",
       "      <th></th>\n",
       "      <th>SatelliteID</th>\n",
       "      <th>Summarization</th>\n",
       "      <th>Captions</th>\n",
       "      <th>GroundImageIDs</th>\n",
       "    </tr>\n",
       "  </thead>\n",
       "  <tbody>\n",
       "    <tr>\n",
       "      <th>0</th>\n",
       "      <td>19</td>\n",
       "      <td>The image features a statue of a bird, possibl...</td>\n",
       "      <td>1. The image features a statue of a bird, poss...</td>\n",
       "      <td>29881810051</td>\n",
       "    </tr>\n",
       "    <tr>\n",
       "      <th>1</th>\n",
       "      <td>74</td>\n",
       "      <td>In the 1970s and 1980s, the stained glass ceil...</td>\n",
       "      <td>1. The image features a large, colorful staine...</td>\n",
       "      <td>29014260055</td>\n",
       "    </tr>\n",
       "    <tr>\n",
       "      <th>2</th>\n",
       "      <td>134</td>\n",
       "      <td>[The image features a large military helicopte...</td>\n",
       "      <td>1. The image features a large military helicop...</td>\n",
       "      <td>37428220445</td>\n",
       "    </tr>\n",
       "    <tr>\n",
       "      <th>3</th>\n",
       "      <td>179</td>\n",
       "      <td>Summarize the text in bracket. [The image show...</td>\n",
       "      <td>1. The image captures a serene view of a large...</td>\n",
       "      <td>27868870034</td>\n",
       "    </tr>\n",
       "    <tr>\n",
       "      <th>4</th>\n",
       "      <td>183</td>\n",
       "      <td>Summarize the text in bracket.[The image captu...</td>\n",
       "      <td>1. The image captures a breathtaking view of t...</td>\n",
       "      <td>29693920062</td>\n",
       "    </tr>\n",
       "    <tr>\n",
       "      <th>...</th>\n",
       "      <td>...</td>\n",
       "      <td>...</td>\n",
       "      <td>...</td>\n",
       "      <td>...</td>\n",
       "    </tr>\n",
       "    <tr>\n",
       "      <th>9031</th>\n",
       "      <td>292588</td>\n",
       "      <td>The image depicts an empty city street on a cl...</td>\n",
       "      <td>1. The image depicts an empty city street on a...</td>\n",
       "      <td>51750780409</td>\n",
       "    </tr>\n",
       "    <tr>\n",
       "      <th>9032</th>\n",
       "      <td>292610</td>\n",
       "      <td>The image depicts a snowy city street with a g...</td>\n",
       "      <td>1. The image depicts a snowy city street with ...</td>\n",
       "      <td>51760820093</td>\n",
       "    </tr>\n",
       "    <tr>\n",
       "      <th>9033</th>\n",
       "      <td>292662</td>\n",
       "      <td>The image depicts a tree-lined street in a sma...</td>\n",
       "      <td>1. The image depicts a tree-lined street in a ...</td>\n",
       "      <td>51665200091</td>\n",
       "    </tr>\n",
       "    <tr>\n",
       "      <th>9034</th>\n",
       "      <td>292672</td>\n",
       "      <td>A scene featuring a vibrant floral arrangement...</td>\n",
       "      <td>1. The image features a vibrant floral arrange...</td>\n",
       "      <td>51693140013</td>\n",
       "    </tr>\n",
       "    <tr>\n",
       "      <th>9035</th>\n",
       "      <td>292744</td>\n",
       "      <td>Example: [The image features a beautiful autum...</td>\n",
       "      <td>1. The image features a beautiful autumn scene...</td>\n",
       "      <td>51608110032</td>\n",
       "    </tr>\n",
       "  </tbody>\n",
       "</table>\n",
       "<p>9036 rows × 4 columns</p>\n",
       "</div>"
      ],
      "text/plain": [
       "      SatelliteID                                      Summarization  \\\n",
       "0              19  The image features a statue of a bird, possibl...   \n",
       "1              74  In the 1970s and 1980s, the stained glass ceil...   \n",
       "2             134  [The image features a large military helicopte...   \n",
       "3             179  Summarize the text in bracket. [The image show...   \n",
       "4             183  Summarize the text in bracket.[The image captu...   \n",
       "...           ...                                                ...   \n",
       "9031       292588  The image depicts an empty city street on a cl...   \n",
       "9032       292610  The image depicts a snowy city street with a g...   \n",
       "9033       292662  The image depicts a tree-lined street in a sma...   \n",
       "9034       292672  A scene featuring a vibrant floral arrangement...   \n",
       "9035       292744  Example: [The image features a beautiful autum...   \n",
       "\n",
       "                                               Captions GroundImageIDs  \n",
       "0     1. The image features a statue of a bird, poss...    29881810051  \n",
       "1     1. The image features a large, colorful staine...    29014260055  \n",
       "2     1. The image features a large military helicop...    37428220445  \n",
       "3     1. The image captures a serene view of a large...    27868870034  \n",
       "4     1. The image captures a breathtaking view of t...    29693920062  \n",
       "...                                                 ...            ...  \n",
       "9031  1. The image depicts an empty city street on a...    51750780409  \n",
       "9032  1. The image depicts a snowy city street with ...    51760820093  \n",
       "9033  1. The image depicts a tree-lined street in a ...    51665200091  \n",
       "9034  1. The image features a vibrant floral arrange...    51693140013  \n",
       "9035  1. The image features a beautiful autumn scene...    51608110032  \n",
       "\n",
       "[9036 rows x 4 columns]"
      ]
     },
     "execution_count": 3,
     "metadata": {},
     "output_type": "execute_result"
    }
   ],
   "source": [
    "df = pd.read_csv('summarizations_subset.csv')\n",
    "df"
   ]
  },
  {
   "cell_type": "code",
   "execution_count": 4,
   "metadata": {},
   "outputs": [
    {
     "name": "stdout",
     "output_type": "stream",
     "text": [
      "The image features a statue of a bird, possibly a bird of prey like a hawk or an eagle, sitting on top of a stone pedestal\n"
     ]
    }
   ],
   "source": [
    "print(df['Summarization'][0])"
   ]
  },
  {
   "cell_type": "code",
   "execution_count": 5,
   "metadata": {},
   "outputs": [
    {
     "name": "stdout",
     "output_type": "stream",
     "text": [
      "1. The image features a statue of a bird, possibly a bird of prey like a hawk or an eagle, sitting on top of a stone pedestal. The bird statue appears to be wearing a crown, giving it a majestic and regal appearance. The statue is positioned in front of a sign, which could be providing information about the bird or its surroundings. The scene is set outdoors, possibly in a park or a similar public space.\n"
     ]
    }
   ],
   "source": [
    "print(df['Captions'][0])"
   ]
  },
  {
   "cell_type": "code",
   "execution_count": 6,
   "metadata": {},
   "outputs": [
    {
     "name": "stdout",
     "output_type": "stream",
     "text": [
      "In the 1970s and 1980s, the stained glass ceiling was a popular design trend in architecture. Stained glass\n"
     ]
    }
   ],
   "source": [
    "print(df['Summarization'][1])"
   ]
  },
  {
   "cell_type": "code",
   "execution_count": 7,
   "metadata": {},
   "outputs": [
    {
     "name": "stdout",
     "output_type": "stream",
     "text": [
      "1. The image features a large, colorful stained glass ceiling in a building. The ceiling is adorned with a vibrant mosaic design, showcasing a variety of colors and patterns. The stained glass is illuminated by sunlight, casting a warm and inviting glow throughout the space.   In addition to the stained glass ceiling, the room is filled with a multitude of windows, allowing natural light to flood the area. The combination of the stained glass ceiling and the abundance of windows creates a visually stunning and inviting atmosphere in the building.\n"
     ]
    }
   ],
   "source": [
    "print(df['Captions'][1])"
   ]
  },
  {
   "cell_type": "code",
   "execution_count": 8,
   "metadata": {},
   "outputs": [
    {
     "name": "stdout",
     "output_type": "stream",
     "text": [
      "[The image features a large military helicopter parked on a tarmac, surrounded by several people. The helicopter has its door open, allowing people to enter\n"
     ]
    }
   ],
   "source": [
    "print(df['Summarization'][2])"
   ]
  },
  {
   "cell_type": "code",
   "execution_count": 23,
   "metadata": {},
   "outputs": [
    {
     "name": "stdout",
     "output_type": "stream",
     "text": [
      "1. The image features a large military helicopter parked on a tarmac, surrounded by several people. The helicopter has its door open, allowing people to enter or exit the aircraft. There are at least nine people visible in the scene, with some standing closer to the helicopter and others further away.   In addition to the helicopter, there are a couple of cars parked in the vicinity. One car is located on the left side of the helicopter, while the other car is parked on the right side. The scene appears to be a gathering or event involving the military helicopter and the people around it.\n"
     ]
    }
   ],
   "source": [
    "print(df['Captions'][2])"
   ]
  },
  {
   "cell_type": "code",
   "execution_count": 5,
   "metadata": {},
   "outputs": [],
   "source": [
    "rows_with_comma = df[df['GroundImageIDs'].str.contains(',')]"
   ]
  },
  {
   "cell_type": "code",
   "execution_count": 6,
   "metadata": {},
   "outputs": [
    {
     "data": {
      "text/html": [
       "<div>\n",
       "<style scoped>\n",
       "    .dataframe tbody tr th:only-of-type {\n",
       "        vertical-align: middle;\n",
       "    }\n",
       "\n",
       "    .dataframe tbody tr th {\n",
       "        vertical-align: top;\n",
       "    }\n",
       "\n",
       "    .dataframe thead th {\n",
       "        text-align: right;\n",
       "    }\n",
       "</style>\n",
       "<table border=\"1\" class=\"dataframe\">\n",
       "  <thead>\n",
       "    <tr style=\"text-align: right;\">\n",
       "      <th></th>\n",
       "      <th>SatelliteID</th>\n",
       "      <th>Summarization</th>\n",
       "      <th>Captions</th>\n",
       "      <th>GroundImageIDs</th>\n",
       "    </tr>\n",
       "  </thead>\n",
       "  <tbody>\n",
       "    <tr>\n",
       "      <th>20</th>\n",
       "      <td>821</td>\n",
       "      <td>The image features a small black and white kit...</td>\n",
       "      <td>1. The image features a small black and white ...</td>\n",
       "      <td>36685220035, 36685220065</td>\n",
       "    </tr>\n",
       "    <tr>\n",
       "      <th>28</th>\n",
       "      <td>908</td>\n",
       "      <td>Summarize the text in bracket.\\n[The image fea...</td>\n",
       "      <td>1. The image features a large brick building w...</td>\n",
       "      <td>21388890402, 20776980004</td>\n",
       "    </tr>\n",
       "    <tr>\n",
       "      <th>29</th>\n",
       "      <td>912</td>\n",
       "      <td>The image depicts a spacious library filled wi...</td>\n",
       "      <td>1. The image depicts a spacious library filled...</td>\n",
       "      <td>21351820405, 21343040072, 21342840022</td>\n",
       "    </tr>\n",
       "    <tr>\n",
       "      <th>32</th>\n",
       "      <td>994</td>\n",
       "      <td>Discuss the visual elements of the text.\\n[The...</td>\n",
       "      <td>1. The image features a large gray and brown s...</td>\n",
       "      <td>51610330079, 51610330044</td>\n",
       "    </tr>\n",
       "    <tr>\n",
       "      <th>51</th>\n",
       "      <td>1515</td>\n",
       "      <td>The image depicts a serene scene of a river su...</td>\n",
       "      <td>1. The image depicts a serene scene of a river...</td>\n",
       "      <td>14725510084, 14747740023</td>\n",
       "    </tr>\n",
       "    <tr>\n",
       "      <th>...</th>\n",
       "      <td>...</td>\n",
       "      <td>...</td>\n",
       "      <td>...</td>\n",
       "      <td>...</td>\n",
       "    </tr>\n",
       "    <tr>\n",
       "      <th>9005</th>\n",
       "      <td>291658</td>\n",
       "      <td>[The image depicts a cozy living room scene wi...</td>\n",
       "      <td>1. The image depicts a cozy living room scene ...</td>\n",
       "      <td>49524570053, 49524570023</td>\n",
       "    </tr>\n",
       "    <tr>\n",
       "      <th>9009</th>\n",
       "      <td>291695</td>\n",
       "      <td>[The image features a snow-covered field with ...</td>\n",
       "      <td>1. The image features a snow-covered field wit...</td>\n",
       "      <td>49525300097, 49525300442</td>\n",
       "    </tr>\n",
       "    <tr>\n",
       "      <th>9016</th>\n",
       "      <td>291986</td>\n",
       "      <td>A snowy scene featuring two white birds standi...</td>\n",
       "      <td>1. The image features two white birds standing...</td>\n",
       "      <td>50804820021, 50230900013</td>\n",
       "    </tr>\n",
       "    <tr>\n",
       "      <th>9017</th>\n",
       "      <td>291987</td>\n",
       "      <td>In the image, a large white bird, possibly a c...</td>\n",
       "      <td>1. The image features two white birds standing...</td>\n",
       "      <td>50804820021, 50230900013</td>\n",
       "    </tr>\n",
       "    <tr>\n",
       "      <th>9025</th>\n",
       "      <td>292456</td>\n",
       "      <td>The image features a box filled with various i...</td>\n",
       "      <td>1. The image features a box filled with variou...</td>\n",
       "      <td>49933470056, 49957850476</td>\n",
       "    </tr>\n",
       "  </tbody>\n",
       "</table>\n",
       "<p>719 rows × 4 columns</p>\n",
       "</div>"
      ],
      "text/plain": [
       "      SatelliteID                                      Summarization  \\\n",
       "20            821  The image features a small black and white kit...   \n",
       "28            908  Summarize the text in bracket.\\n[The image fea...   \n",
       "29            912  The image depicts a spacious library filled wi...   \n",
       "32            994  Discuss the visual elements of the text.\\n[The...   \n",
       "51           1515  The image depicts a serene scene of a river su...   \n",
       "...           ...                                                ...   \n",
       "9005       291658  [The image depicts a cozy living room scene wi...   \n",
       "9009       291695  [The image features a snow-covered field with ...   \n",
       "9016       291986  A snowy scene featuring two white birds standi...   \n",
       "9017       291987  In the image, a large white bird, possibly a c...   \n",
       "9025       292456  The image features a box filled with various i...   \n",
       "\n",
       "                                               Captions  \\\n",
       "20    1. The image features a small black and white ...   \n",
       "28    1. The image features a large brick building w...   \n",
       "29    1. The image depicts a spacious library filled...   \n",
       "32    1. The image features a large gray and brown s...   \n",
       "51    1. The image depicts a serene scene of a river...   \n",
       "...                                                 ...   \n",
       "9005  1. The image depicts a cozy living room scene ...   \n",
       "9009  1. The image features a snow-covered field wit...   \n",
       "9016  1. The image features two white birds standing...   \n",
       "9017  1. The image features two white birds standing...   \n",
       "9025  1. The image features a box filled with variou...   \n",
       "\n",
       "                             GroundImageIDs  \n",
       "20                 36685220035, 36685220065  \n",
       "28                 21388890402, 20776980004  \n",
       "29    21351820405, 21343040072, 21342840022  \n",
       "32                 51610330079, 51610330044  \n",
       "51                 14725510084, 14747740023  \n",
       "...                                     ...  \n",
       "9005               49524570053, 49524570023  \n",
       "9009               49525300097, 49525300442  \n",
       "9016               50804820021, 50230900013  \n",
       "9017               50804820021, 50230900013  \n",
       "9025               49933470056, 49957850476  \n",
       "\n",
       "[719 rows x 4 columns]"
      ]
     },
     "execution_count": 6,
     "metadata": {},
     "output_type": "execute_result"
    }
   ],
   "source": [
    "rows_with_comma"
   ]
  },
  {
   "cell_type": "code",
   "execution_count": 6,
   "metadata": {},
   "outputs": [
    {
     "data": {
      "text/plain": [
       "'The image features a small black and white kitten sitting underneath a car. The kitten is positioned close to the front of the car, possibly seeking shelter'"
      ]
     },
     "execution_count": 6,
     "metadata": {},
     "output_type": "execute_result"
    }
   ],
   "source": [
    "rows_with_comma['Summarization'].iloc[0]"
   ]
  },
  {
   "cell_type": "code",
   "execution_count": 7,
   "metadata": {},
   "outputs": [
    {
     "data": {
      "text/plain": [
       "'1. The image features a small black and white kitten sitting underneath a car. The kitten is positioned close to the front of the car, possibly seeking shelter or protection from the elements. The car appears to be parked in a parking lot or a similar outdoor area. The scene captures the curiosity and vulnerability of the kitten as it explores its surroundings.\\n2. The image features a large orange and white cat lying down on a white line in the middle of a street. The cat appears to be sleeping or resting comfortably in the middle of the road.   In the background, there is a car parked on the left side of the street, and another car can be seen further down the road on the right side. The scene captures a moment of relaxation for the cat amidst its urban surroundings.'"
      ]
     },
     "execution_count": 7,
     "metadata": {},
     "output_type": "execute_result"
    }
   ],
   "source": [
    "rows_with_comma['Captions'].iloc[0]"
   ]
  },
  {
   "cell_type": "code",
   "execution_count": 8,
   "metadata": {},
   "outputs": [
    {
     "data": {
      "text/plain": [
       "SatelliteID                                                     821\n",
       "Summarization     The image features a small black and white kit...\n",
       "Captions          1. The image features a small black and white ...\n",
       "GroundImageIDs                             36685220035, 36685220065\n",
       "Name: 20, dtype: object"
      ]
     },
     "execution_count": 8,
     "metadata": {},
     "output_type": "execute_result"
    }
   ],
   "source": [
    "rows_with_comma.iloc[0]"
   ]
  },
  {
   "cell_type": "markdown",
   "metadata": {},
   "source": [
    "### pass the captions to llama"
   ]
  },
  {
   "cell_type": "code",
   "execution_count": 1,
   "metadata": {},
   "outputs": [
    {
     "name": "stderr",
     "output_type": "stream",
     "text": [
      "/home/yx229/miniconda3/envs/graft_vqa/lib/python3.10/site-packages/tqdm/auto.py:21: TqdmWarning: IProgress not found. Please update jupyter and ipywidgets. See https://ipywidgets.readthedocs.io/en/stable/user_install.html\n",
      "  from .autonotebook import tqdm as notebook_tqdm\n"
     ]
    }
   ],
   "source": [
    "\n",
    "import torch\n",
    "import transformers\n",
    "from transformers import LlamaForCausalLM, LlamaTokenizer"
   ]
  },
  {
   "cell_type": "code",
   "execution_count": 2,
   "metadata": {},
   "outputs": [
    {
     "name": "stderr",
     "output_type": "stream",
     "text": [
      "Loading checkpoint shards: 100%|██████████| 3/3 [00:17<00:00,  5.71s/it]\n"
     ]
    }
   ],
   "source": [
    "model_dir = \"../llama/llama-2-7b-chat-hf\"\n",
    "model = LlamaForCausalLM.from_pretrained(model_dir)"
   ]
  },
  {
   "cell_type": "code",
   "execution_count": 3,
   "metadata": {},
   "outputs": [],
   "source": [
    "tokenizer = LlamaTokenizer.from_pretrained(model_dir)"
   ]
  },
  {
   "cell_type": "code",
   "execution_count": 4,
   "metadata": {},
   "outputs": [],
   "source": [
    "pipeline = transformers.pipeline(\n",
    "\"text-generation\",\n",
    "\n",
    "model=model,\n",
    "\n",
    "tokenizer=tokenizer,\n",
    "\n",
    "torch_dtype=torch.float16,\n",
    "\n",
    "device_map=\"auto\",\n",
    "\n",
    ")"
   ]
  },
  {
   "cell_type": "code",
   "execution_count": 6,
   "metadata": {},
   "outputs": [
    {
     "name": "stderr",
     "output_type": "stream",
     "text": [
      "Truncation was not explicitly activated but `max_length` is provided a specific value, please use `truncation=True` to explicitly truncate examples to max length. Defaulting to 'longest_first' truncation strategy. If you encode pairs of sequences (GLUE-style) with the tokenizer you can select this strategy more precisely by providing a specific strategy to `truncation`.\n",
      "Setting `pad_token_id` to `eos_token_id`:2 for open-end generation.\n"
     ]
    },
    {
     "name": "stdout",
     "output_type": "stream",
     "text": [
      "I have tomatoes, basil and cheese at home. What can I cook for dinner?\n",
      "You could make a simple and delicious Caprese Salad! Here's a recipe for a classic Caprese Salad:\n",
      "Ingredients:\n",
      "* 4 ripe tomatoes, sliced into 1/4-inch thick rounds\n",
      "* 1/4 cup fresh basil leaves, torn into small pieces\n",
      "* 1/4 cup grated Parmesan cheese\n",
      "* 2 tablespoons olive oil\n",
      "* Salt and pepper to taste\n",
      "\n",
      "Instructions:\n",
      "\n",
      "1. In a small bowl, drizzle the tomato slices with olive oil and sprinkle with salt and pepper.\n",
      "2. Arrange the tomato slices on a plate.\n",
      "3. Top the tomatoes with the basil leaves and Parmesan cheese.\n",
      "4. Drizzle the remaining olive oil over the salad and sprinkle with salt and pepper to taste.\n",
      "5. Serve immediately and enjoy!\n",
      "\n",
      "This salad is a classic Italian dish that combines the fresh flavors of tomatoes, basil, and Parmesan cheese. It's easy to make and is perfect for a quick and delicious dinner. You can also add some olives or a few slices of prosciutto to make it more interesting. Enjoy!\n"
     ]
    }
   ],
   "source": [
    "sequences = pipeline(\n",
    "'I have tomatoes, basil and cheese at home. What can I cook for dinner?\\n',\n",
    "\n",
    "do_sample=True,\n",
    "\n",
    "top_k=10,\n",
    "\n",
    "num_return_sequences=1,\n",
    "\n",
    "eos_token_id=tokenizer.eos_token_id,\n",
    "\n",
    "max_length=400,\n",
    "\n",
    ")\n",
    "\n",
    "for seq in sequences:\n",
    "  print(f\"{seq['generated_text']}\")"
   ]
  },
  {
   "cell_type": "code",
   "execution_count": 19,
   "metadata": {},
   "outputs": [
    {
     "data": {
      "text/html": [
       "<div>\n",
       "<style scoped>\n",
       "    .dataframe tbody tr th:only-of-type {\n",
       "        vertical-align: middle;\n",
       "    }\n",
       "\n",
       "    .dataframe tbody tr th {\n",
       "        vertical-align: top;\n",
       "    }\n",
       "\n",
       "    .dataframe thead th {\n",
       "        text-align: right;\n",
       "    }\n",
       "</style>\n",
       "<table border=\"1\" class=\"dataframe\">\n",
       "  <thead>\n",
       "    <tr style=\"text-align: right;\">\n",
       "      <th></th>\n",
       "      <th>SatelliteID</th>\n",
       "      <th>Captions</th>\n",
       "      <th>GroundImageIDs</th>\n",
       "      <th>Summarization</th>\n",
       "    </tr>\n",
       "  </thead>\n",
       "  <tbody>\n",
       "    <tr>\n",
       "      <th>0</th>\n",
       "      <td>18</td>\n",
       "      <td>1. The image features a table with a variety o...</td>\n",
       "      <td>28313350424</td>\n",
       "      <td>The image depicts a table with various items o...</td>\n",
       "    </tr>\n",
       "    <tr>\n",
       "      <th>1</th>\n",
       "      <td>19</td>\n",
       "      <td>1. The image features a statue of a bird, poss...</td>\n",
       "      <td>29881810051</td>\n",
       "      <td>The statue features a bird of prey wearing a c...</td>\n",
       "    </tr>\n",
       "    <tr>\n",
       "      <th>2</th>\n",
       "      <td>35</td>\n",
       "      <td>1. The image depicts a woman standing in the m...</td>\n",
       "      <td>28931880455</td>\n",
       "      <td>The image depicts a vibrant urban scene in a b...</td>\n",
       "    </tr>\n",
       "    <tr>\n",
       "      <th>3</th>\n",
       "      <td>74</td>\n",
       "      <td>1. The image features a large, colorful staine...</td>\n",
       "      <td>29014260055</td>\n",
       "      <td>The region is known for its stunning and color...</td>\n",
       "    </tr>\n",
       "    <tr>\n",
       "      <th>4</th>\n",
       "      <td>134</td>\n",
       "      <td>1. The image features a large military helicop...</td>\n",
       "      <td>37428220445</td>\n",
       "      <td>The region in the image appears to be an area ...</td>\n",
       "    </tr>\n",
       "    <tr>\n",
       "      <th>5</th>\n",
       "      <td>179</td>\n",
       "      <td>1. The image captures a serene view of a large...</td>\n",
       "      <td>27868870034</td>\n",
       "      <td>The region depicted in the image is characteri...</td>\n",
       "    </tr>\n",
       "    <tr>\n",
       "      <th>6</th>\n",
       "      <td>183</td>\n",
       "      <td>1. The image captures a breathtaking view of t...</td>\n",
       "      <td>29693920062</td>\n",
       "      <td>The region in the image is a rocky coastline w...</td>\n",
       "    </tr>\n",
       "    <tr>\n",
       "      <th>7</th>\n",
       "      <td>188</td>\n",
       "      <td>1. The image depicts a group of three people w...</td>\n",
       "      <td>45345810014</td>\n",
       "      <td>The image shows three people in the water, wit...</td>\n",
       "    </tr>\n",
       "    <tr>\n",
       "      <th>8</th>\n",
       "      <td>198</td>\n",
       "      <td>1. The image depicts a large bridge spanning a...</td>\n",
       "      <td>29693920472</td>\n",
       "      <td>The region in this image is characterized by a...</td>\n",
       "    </tr>\n",
       "    <tr>\n",
       "      <th>9</th>\n",
       "      <td>207</td>\n",
       "      <td>1. The image features a dining table with a bo...</td>\n",
       "      <td>29411240482</td>\n",
       "      <td>The region is known for its delicious cuisine ...</td>\n",
       "    </tr>\n",
       "  </tbody>\n",
       "</table>\n",
       "</div>"
      ],
      "text/plain": [
       "   SatelliteID                                           Captions  \\\n",
       "0           18  1. The image features a table with a variety o...   \n",
       "1           19  1. The image features a statue of a bird, poss...   \n",
       "2           35  1. The image depicts a woman standing in the m...   \n",
       "3           74  1. The image features a large, colorful staine...   \n",
       "4          134  1. The image features a large military helicop...   \n",
       "5          179  1. The image captures a serene view of a large...   \n",
       "6          183  1. The image captures a breathtaking view of t...   \n",
       "7          188  1. The image depicts a group of three people w...   \n",
       "8          198  1. The image depicts a large bridge spanning a...   \n",
       "9          207  1. The image features a dining table with a bo...   \n",
       "\n",
       "   GroundImageIDs                                      Summarization  \n",
       "0     28313350424  The image depicts a table with various items o...  \n",
       "1     29881810051  The statue features a bird of prey wearing a c...  \n",
       "2     28931880455  The image depicts a vibrant urban scene in a b...  \n",
       "3     29014260055  The region is known for its stunning and color...  \n",
       "4     37428220445  The region in the image appears to be an area ...  \n",
       "5     27868870034  The region depicted in the image is characteri...  \n",
       "6     29693920062  The region in the image is a rocky coastline w...  \n",
       "7     45345810014  The image shows three people in the water, wit...  \n",
       "8     29693920472  The region in this image is characterized by a...  \n",
       "9     29411240482  The region is known for its delicious cuisine ...  "
      ]
     },
     "execution_count": 19,
     "metadata": {},
     "output_type": "execute_result"
    }
   ],
   "source": [
    "df = pd.read_csv('summarizations/summarizations-llama-2-7b-chat-hf.csv')\n",
    "df"
   ]
  },
  {
   "cell_type": "code",
   "execution_count": 22,
   "metadata": {},
   "outputs": [
    {
     "data": {
      "text/plain": [
       "'The statue features a bird of prey wearing a crown, possibly a hawk or eagle, standing on a pedestal in an outdoor setting, likely a park or public space. The statue is surrounded by a sign providing information about the bird or its surroundings, giving it a regal appearance.'"
      ]
     },
     "execution_count": 22,
     "metadata": {},
     "output_type": "execute_result"
    }
   ],
   "source": [
    "df['Summarization'][1]"
   ]
  },
  {
   "cell_type": "code",
   "execution_count": 21,
   "metadata": {},
   "outputs": [
    {
     "data": {
      "text/plain": [
       "'1. The image features a statue of a bird, possibly a bird of prey like a hawk or an eagle, sitting on top of a stone pedestal. The bird statue appears to be wearing a crown, giving it a majestic and regal appearance. The statue is positioned in front of a sign, which could be providing information about the bird or its surroundings. The scene is set outdoors, possibly in a park or a similar public space.'"
      ]
     },
     "execution_count": 21,
     "metadata": {},
     "output_type": "execute_result"
    }
   ],
   "source": [
    "df['Captions'][1]"
   ]
  },
  {
   "cell_type": "code",
   "execution_count": null,
   "metadata": {},
   "outputs": [],
   "source": []
  }
 ],
 "metadata": {
  "kernelspec": {
   "display_name": "summer24",
   "language": "python",
   "name": "python3"
  },
  "language_info": {
   "codemirror_mode": {
    "name": "ipython",
    "version": 3
   },
   "file_extension": ".py",
   "mimetype": "text/x-python",
   "name": "python",
   "nbconvert_exporter": "python",
   "pygments_lexer": "ipython3",
   "version": "3.10.14"
  }
 },
 "nbformat": 4,
 "nbformat_minor": 2
}
